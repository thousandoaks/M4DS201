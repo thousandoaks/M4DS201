{
  "nbformat": 4,
  "nbformat_minor": 0,
  "metadata": {
    "colab": {
      "provenance": [],
      "authorship_tag": "ABX9TyPcDlvdQVlk6+X/s2Ck7W9Q"
    },
    "kernelspec": {
      "name": "python3",
      "display_name": "Python 3"
    },
    "language_info": {
      "name": "python"
    }
  },
  "cells": [
    {
      "cell_type": "markdown",
      "source": [
        "# Pooled Cross Sectional Analysis (Second Example)"
      ],
      "metadata": {
        "id": "9Koy8IdCva-p"
      }
    },
    {
      "cell_type": "markdown",
      "source": [
        "### Intro and objectives\n",
        "\n",
        "\n",
        "### In this lab you will learn:\n",
        "1. examples of pooled cross sectional analysis\n",
        "2. how to fit pooled cross sectional models in Python\n",
        "\n",
        "\n",
        "## What I hope you'll get out of this lab\n",
        "* The feeling that you'll \"know where to start\" when you need to fit pooled cross sectional data\n",
        "* Worked Examples\n",
        "* How to interpret the results obtained"
      ],
      "metadata": {
        "id": "DiOUGkzJvkIq"
      }
    },
    {
      "cell_type": "code",
      "execution_count": 11,
      "metadata": {
        "colab": {
          "base_uri": "https://localhost:8080/"
        },
        "id": "31p3EWLtvZq_",
        "outputId": "629030ce-ad01-41aa-ea44-6b9232137b9d"
      },
      "outputs": [
        {
          "output_type": "stream",
          "name": "stdout",
          "text": [
            "Looking in indexes: https://pypi.org/simple, https://us-python.pkg.dev/colab-wheels/public/simple/\n",
            "Requirement already satisfied: wooldridge in /usr/local/lib/python3.8/dist-packages (0.4.4)\n",
            "Requirement already satisfied: pandas in /usr/local/lib/python3.8/dist-packages (from wooldridge) (1.3.5)\n",
            "Requirement already satisfied: numpy>=1.17.3 in /usr/local/lib/python3.8/dist-packages (from pandas->wooldridge) (1.21.6)\n",
            "Requirement already satisfied: python-dateutil>=2.7.3 in /usr/local/lib/python3.8/dist-packages (from pandas->wooldridge) (2.8.2)\n",
            "Requirement already satisfied: pytz>=2017.3 in /usr/local/lib/python3.8/dist-packages (from pandas->wooldridge) (2022.7)\n",
            "Requirement already satisfied: six>=1.5 in /usr/local/lib/python3.8/dist-packages (from python-dateutil>=2.7.3->pandas->wooldridge) (1.15.0)\n"
          ]
        }
      ],
      "source": [
        "!pip install wooldridge\n",
        "import wooldridge as woo\n",
        "import statsmodels.formula.api as smf\n",
        "import matplotlib.pyplot as plt\n",
        "import seaborn as sns\n",
        "import pandas as pd"
      ]
    },
    {
      "cell_type": "markdown",
      "source": [
        "# Example. Changes in the Return to Education and the Gender Wage Gap"
      ],
      "metadata": {
        "id": "aEHpzweDwqTa"
      }
    },
    {
      "cell_type": "markdown",
      "source": [
        "#### the variables in the data include years of education, experience, and gender. The variable union is a dummy variable equal to one if the person belongs to a union, and zero otherwise. The variable y85 is a dummy variable equal to one if the observation comes from 1985 and zero if it comes from 1978. There are 550 people in the sample in 1978 and a different set of 534 people in 1985.\n",
        "\n",
        "#### In this case we fit a multiple linear models to predict log(wage)\n",
        "\n",
        "\n",
        "$ log(wage)=\\beta_0+δ_o*year_{85}+\\beta_1*educ+δ_1*year_{85}*educ+\\beta_2*exper+\\beta_2*exper^2+\\beta_4*union+beta_5*female+δ_5*year_{85}*female $\n",
        "\n"
      ],
      "metadata": {
        "id": "qHmLOQ7MxEbJ"
      }
    },
    {
      "cell_type": "code",
      "source": [
        "cps78_85 = woo.dataWoo('cps78_85')"
      ],
      "metadata": {
        "id": "2ma8vEoPxGI_"
      },
      "execution_count": 3,
      "outputs": []
    },
    {
      "cell_type": "code",
      "source": [
        "cps78_85.head()"
      ],
      "metadata": {
        "colab": {
          "base_uri": "https://localhost:8080/",
          "height": 206
        },
        "id": "uNliv4ZZ0OeX",
        "outputId": "e983a9b4-f893-4372-c3ef-a297a1de2697"
      },
      "execution_count": 4,
      "outputs": [
        {
          "output_type": "execute_result",
          "data": {
            "text/plain": [
              "   educ  south  nonwhite  female  married  exper  expersq  union   lwage  age  \\\n",
              "0    12      0         0       0        0      8       64      0  1.2150   25   \n",
              "1    12      0         0       1        1     30      900      1  1.6094   47   \n",
              "2     6      0         0       0        1     38     1444      1  2.1401   49   \n",
              "3    12      0         0       0        1     19      361      1  2.0732   36   \n",
              "4    12      0         0       0        1     11      121      0  1.6490   28   \n",
              "\n",
              "   year  y85  y85fem  y85educ  y85union  \n",
              "0    78    0       0        0         0  \n",
              "1    78    0       0        0         0  \n",
              "2    78    0       0        0         0  \n",
              "3    78    0       0        0         0  \n",
              "4    78    0       0        0         0  "
            ],
            "text/html": [
              "\n",
              "  <div id=\"df-773314e5-7426-48eb-8761-ba90f9e20cba\">\n",
              "    <div class=\"colab-df-container\">\n",
              "      <div>\n",
              "<style scoped>\n",
              "    .dataframe tbody tr th:only-of-type {\n",
              "        vertical-align: middle;\n",
              "    }\n",
              "\n",
              "    .dataframe tbody tr th {\n",
              "        vertical-align: top;\n",
              "    }\n",
              "\n",
              "    .dataframe thead th {\n",
              "        text-align: right;\n",
              "    }\n",
              "</style>\n",
              "<table border=\"1\" class=\"dataframe\">\n",
              "  <thead>\n",
              "    <tr style=\"text-align: right;\">\n",
              "      <th></th>\n",
              "      <th>educ</th>\n",
              "      <th>south</th>\n",
              "      <th>nonwhite</th>\n",
              "      <th>female</th>\n",
              "      <th>married</th>\n",
              "      <th>exper</th>\n",
              "      <th>expersq</th>\n",
              "      <th>union</th>\n",
              "      <th>lwage</th>\n",
              "      <th>age</th>\n",
              "      <th>year</th>\n",
              "      <th>y85</th>\n",
              "      <th>y85fem</th>\n",
              "      <th>y85educ</th>\n",
              "      <th>y85union</th>\n",
              "    </tr>\n",
              "  </thead>\n",
              "  <tbody>\n",
              "    <tr>\n",
              "      <th>0</th>\n",
              "      <td>12</td>\n",
              "      <td>0</td>\n",
              "      <td>0</td>\n",
              "      <td>0</td>\n",
              "      <td>0</td>\n",
              "      <td>8</td>\n",
              "      <td>64</td>\n",
              "      <td>0</td>\n",
              "      <td>1.2150</td>\n",
              "      <td>25</td>\n",
              "      <td>78</td>\n",
              "      <td>0</td>\n",
              "      <td>0</td>\n",
              "      <td>0</td>\n",
              "      <td>0</td>\n",
              "    </tr>\n",
              "    <tr>\n",
              "      <th>1</th>\n",
              "      <td>12</td>\n",
              "      <td>0</td>\n",
              "      <td>0</td>\n",
              "      <td>1</td>\n",
              "      <td>1</td>\n",
              "      <td>30</td>\n",
              "      <td>900</td>\n",
              "      <td>1</td>\n",
              "      <td>1.6094</td>\n",
              "      <td>47</td>\n",
              "      <td>78</td>\n",
              "      <td>0</td>\n",
              "      <td>0</td>\n",
              "      <td>0</td>\n",
              "      <td>0</td>\n",
              "    </tr>\n",
              "    <tr>\n",
              "      <th>2</th>\n",
              "      <td>6</td>\n",
              "      <td>0</td>\n",
              "      <td>0</td>\n",
              "      <td>0</td>\n",
              "      <td>1</td>\n",
              "      <td>38</td>\n",
              "      <td>1444</td>\n",
              "      <td>1</td>\n",
              "      <td>2.1401</td>\n",
              "      <td>49</td>\n",
              "      <td>78</td>\n",
              "      <td>0</td>\n",
              "      <td>0</td>\n",
              "      <td>0</td>\n",
              "      <td>0</td>\n",
              "    </tr>\n",
              "    <tr>\n",
              "      <th>3</th>\n",
              "      <td>12</td>\n",
              "      <td>0</td>\n",
              "      <td>0</td>\n",
              "      <td>0</td>\n",
              "      <td>1</td>\n",
              "      <td>19</td>\n",
              "      <td>361</td>\n",
              "      <td>1</td>\n",
              "      <td>2.0732</td>\n",
              "      <td>36</td>\n",
              "      <td>78</td>\n",
              "      <td>0</td>\n",
              "      <td>0</td>\n",
              "      <td>0</td>\n",
              "      <td>0</td>\n",
              "    </tr>\n",
              "    <tr>\n",
              "      <th>4</th>\n",
              "      <td>12</td>\n",
              "      <td>0</td>\n",
              "      <td>0</td>\n",
              "      <td>0</td>\n",
              "      <td>1</td>\n",
              "      <td>11</td>\n",
              "      <td>121</td>\n",
              "      <td>0</td>\n",
              "      <td>1.6490</td>\n",
              "      <td>28</td>\n",
              "      <td>78</td>\n",
              "      <td>0</td>\n",
              "      <td>0</td>\n",
              "      <td>0</td>\n",
              "      <td>0</td>\n",
              "    </tr>\n",
              "  </tbody>\n",
              "</table>\n",
              "</div>\n",
              "      <button class=\"colab-df-convert\" onclick=\"convertToInteractive('df-773314e5-7426-48eb-8761-ba90f9e20cba')\"\n",
              "              title=\"Convert this dataframe to an interactive table.\"\n",
              "              style=\"display:none;\">\n",
              "        \n",
              "  <svg xmlns=\"http://www.w3.org/2000/svg\" height=\"24px\"viewBox=\"0 0 24 24\"\n",
              "       width=\"24px\">\n",
              "    <path d=\"M0 0h24v24H0V0z\" fill=\"none\"/>\n",
              "    <path d=\"M18.56 5.44l.94 2.06.94-2.06 2.06-.94-2.06-.94-.94-2.06-.94 2.06-2.06.94zm-11 1L8.5 8.5l.94-2.06 2.06-.94-2.06-.94L8.5 2.5l-.94 2.06-2.06.94zm10 10l.94 2.06.94-2.06 2.06-.94-2.06-.94-.94-2.06-.94 2.06-2.06.94z\"/><path d=\"M17.41 7.96l-1.37-1.37c-.4-.4-.92-.59-1.43-.59-.52 0-1.04.2-1.43.59L10.3 9.45l-7.72 7.72c-.78.78-.78 2.05 0 2.83L4 21.41c.39.39.9.59 1.41.59.51 0 1.02-.2 1.41-.59l7.78-7.78 2.81-2.81c.8-.78.8-2.07 0-2.86zM5.41 20L4 18.59l7.72-7.72 1.47 1.35L5.41 20z\"/>\n",
              "  </svg>\n",
              "      </button>\n",
              "      \n",
              "  <style>\n",
              "    .colab-df-container {\n",
              "      display:flex;\n",
              "      flex-wrap:wrap;\n",
              "      gap: 12px;\n",
              "    }\n",
              "\n",
              "    .colab-df-convert {\n",
              "      background-color: #E8F0FE;\n",
              "      border: none;\n",
              "      border-radius: 50%;\n",
              "      cursor: pointer;\n",
              "      display: none;\n",
              "      fill: #1967D2;\n",
              "      height: 32px;\n",
              "      padding: 0 0 0 0;\n",
              "      width: 32px;\n",
              "    }\n",
              "\n",
              "    .colab-df-convert:hover {\n",
              "      background-color: #E2EBFA;\n",
              "      box-shadow: 0px 1px 2px rgba(60, 64, 67, 0.3), 0px 1px 3px 1px rgba(60, 64, 67, 0.15);\n",
              "      fill: #174EA6;\n",
              "    }\n",
              "\n",
              "    [theme=dark] .colab-df-convert {\n",
              "      background-color: #3B4455;\n",
              "      fill: #D2E3FC;\n",
              "    }\n",
              "\n",
              "    [theme=dark] .colab-df-convert:hover {\n",
              "      background-color: #434B5C;\n",
              "      box-shadow: 0px 1px 3px 1px rgba(0, 0, 0, 0.15);\n",
              "      filter: drop-shadow(0px 1px 2px rgba(0, 0, 0, 0.3));\n",
              "      fill: #FFFFFF;\n",
              "    }\n",
              "  </style>\n",
              "\n",
              "      <script>\n",
              "        const buttonEl =\n",
              "          document.querySelector('#df-773314e5-7426-48eb-8761-ba90f9e20cba button.colab-df-convert');\n",
              "        buttonEl.style.display =\n",
              "          google.colab.kernel.accessAllowed ? 'block' : 'none';\n",
              "\n",
              "        async function convertToInteractive(key) {\n",
              "          const element = document.querySelector('#df-773314e5-7426-48eb-8761-ba90f9e20cba');\n",
              "          const dataTable =\n",
              "            await google.colab.kernel.invokeFunction('convertToInteractive',\n",
              "                                                     [key], {});\n",
              "          if (!dataTable) return;\n",
              "\n",
              "          const docLinkHtml = 'Like what you see? Visit the ' +\n",
              "            '<a target=\"_blank\" href=https://colab.research.google.com/notebooks/data_table.ipynb>data table notebook</a>'\n",
              "            + ' to learn more about interactive tables.';\n",
              "          element.innerHTML = '';\n",
              "          dataTable['output_type'] = 'display_data';\n",
              "          await google.colab.output.renderOutput(dataTable, element);\n",
              "          const docLink = document.createElement('div');\n",
              "          docLink.innerHTML = docLinkHtml;\n",
              "          element.appendChild(docLink);\n",
              "        }\n",
              "      </script>\n",
              "    </div>\n",
              "  </div>\n",
              "  "
            ]
          },
          "metadata": {},
          "execution_count": 4
        }
      ]
    },
    {
      "cell_type": "code",
      "source": [
        "type(cps78_85)"
      ],
      "metadata": {
        "colab": {
          "base_uri": "https://localhost:8080/"
        },
        "id": "xPiVcFZAzh1t",
        "outputId": "33455951-596b-4880-8a6e-89c76b83e6e4"
      },
      "execution_count": 6,
      "outputs": [
        {
          "output_type": "execute_result",
          "data": {
            "text/plain": [
              "pandas.core.frame.DataFrame"
            ]
          },
          "metadata": {},
          "execution_count": 6
        }
      ]
    },
    {
      "cell_type": "code",
      "source": [
        "# We impose a simple, linear, model: \n",
        "# We specify CeoSalaries as the empirical dataset\n",
        "\n",
        "# OLS results including interaction terms:\n",
        "reg = smf.ols(formula='lwage ~ y85+educ+y85*educ + exper +I(exper**2) + union+female+y85*female',\n",
        "              data=cps78_85)"
      ],
      "metadata": {
        "id": "xNYUa6c-0ZYd"
      },
      "execution_count": 21,
      "outputs": []
    },
    {
      "cell_type": "code",
      "source": [
        "# We fit the model\n",
        "results = reg.fit()\n"
      ],
      "metadata": {
        "id": "ykd6_iLT0AU_"
      },
      "execution_count": 22,
      "outputs": []
    },
    {
      "cell_type": "code",
      "source": [
        "# print regression table:\n",
        "table = pd.DataFrame({'b': round(results.params, 4),\n",
        "                      'se': round(results.bse, 4),\n",
        "                      't': round(results.tvalues, 4),\n",
        "                      'pval': round(results.pvalues, 4)})\n",
        "print(f'table: \\n{table}\\n')"
      ],
      "metadata": {
        "colab": {
          "base_uri": "https://localhost:8080/"
        },
        "id": "VWLFz7bymG1O",
        "outputId": "a9b52981-b782-49c7-b4da-56b02fbbecb1"
      },
      "execution_count": 23,
      "outputs": [
        {
          "output_type": "stream",
          "name": "stdout",
          "text": [
            "table: \n",
            "                    b      se        t    pval\n",
            "Intercept      0.4589  0.0934   4.9111  0.0000\n",
            "y85            0.1178  0.1238   0.9517  0.3415\n",
            "educ           0.0747  0.0067  11.1917  0.0000\n",
            "y85:educ       0.0185  0.0094   1.9735  0.0487\n",
            "exper          0.0296  0.0036   8.2932  0.0000\n",
            "I(exper ** 2) -0.0004  0.0001  -5.1513  0.0000\n",
            "union          0.2021  0.0303   6.6722  0.0000\n",
            "female        -0.3167  0.0366  -8.6482  0.0000\n",
            "y85:female     0.0851  0.0513   1.6576  0.0977\n",
            "\n"
          ]
        }
      ]
    },
    {
      "cell_type": "markdown",
      "source": [
        "## Based on the previous we have fitted the following model:\n",
        "\n",
        "$ log(wage)=0.45+0.1178*year_{85}+0.0747*educ+0.0185*year_{85}*educ+0.03*exper+0.0004*exper^2+0.2*union-0.32*female+0.085*year_{85}*female $"
      ],
      "metadata": {
        "id": "TD99-pf-1RVu"
      }
    },
    {
      "cell_type": "markdown",
      "source": [
        "## How do we interpret the equation?\n",
        "\n",
        "#### Based on the fitted model, we conclude:\n",
        "\n",
        "####1. The return to education in 1978 is 0.0747, that is 7.5%\n",
        "####2. The return to education in 1985 is 0.0747+0.0185=0.0932, that is 9.3%\n",
        "\n",
        "#### 3. In 1978, other things equal, a woman earned -0.32, that is 32% less than a man\n",
        "\n",
        "#### 4. In 1985 a woman earned about -0.32+0.085=-0.235, that is 23% less than a man"
      ],
      "metadata": {
        "id": "gXrsythK1wue"
      }
    },
    {
      "cell_type": "code",
      "source": [
        "g = sns.lmplot(\n",
        "    data=cps78_85,\n",
        "    x=\"educ\", y=\"lwage\", hue=\"female\",\n",
        "    height=5\n",
        ")\n",
        "\n",
        "# Use more informative axis labels than are provided by default\n",
        "g.set_axis_labels(\"education (years)\", \"log(wage)\")"
      ],
      "metadata": {
        "colab": {
          "base_uri": "https://localhost:8080/",
          "height": 386
        },
        "id": "yqIUfkrwsvRG",
        "outputId": "0354b4f2-2621-451a-b407-bf76d1054afc"
      },
      "execution_count": 25,
      "outputs": [
        {
          "output_type": "execute_result",
          "data": {
            "text/plain": [
              "<seaborn.axisgrid.FacetGrid at 0x7f1b7e915670>"
            ]
          },
          "metadata": {},
          "execution_count": 25
        },
        {
          "output_type": "display_data",
          "data": {
            "text/plain": [
              "<Figure size 402.5x360 with 1 Axes>"
            ],
            "image/png": "[encoded data removed]"
          },
          "metadata": {
            "needs_background": "light"
          }
        }
      ]
    }
  ]
}